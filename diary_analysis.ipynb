{
 "cells": [
  {
   "cell_type": "code",
   "execution_count": 228,
   "metadata": {},
   "outputs": [],
   "source": [
    "import pandas as pd\n",
    "from datetime import datetime\n",
    "import re \n",
    "import numpy as np\n",
    "import datetime as dt"
   ]
  },
  {
   "cell_type": "code",
   "execution_count": 227,
   "metadata": {},
   "outputs": [],
   "source": [
    "import plotly.express as px\n",
    "import plotly.graph_objs as go\n",
    "import plotly as py"
   ]
  },
  {
   "cell_type": "code",
   "execution_count": 2,
   "metadata": {},
   "outputs": [],
   "source": [
    "df = pd.read_excel('weibo.xlsx')"
   ]
  },
  {
   "cell_type": "code",
   "execution_count": 6,
   "metadata": {},
   "outputs": [
    {
     "data": {
      "text/plain": [
       "Index(['来源媒体 ', '媒体名称', '微博uid', '标题', '摘要', '情感属性', '发文时间', '链接', '文章提及城市',\n",
       "       '文章提及省', '是否含有视频', '媒体类型', '转发数', '评论数', '点赞数', '微博认证类型', '是否原创',\n",
       "       '原创作者', '原文链接', 'news_uuid', 'sim_hash', '主题词', '地域', '发布热区', '性别',\n",
       "       '情感分值', 'app_code', '发布日期', '查询关键词'],\n",
       "      dtype='object')"
      ]
     },
     "execution_count": 6,
     "metadata": {},
     "output_type": "execute_result"
    }
   ],
   "source": [
    "df.columns"
   ]
  },
  {
   "cell_type": "code",
   "execution_count": 8,
   "metadata": {},
   "outputs": [
    {
     "data": {
      "text/plain": [
       "count       151225\n",
       "unique       66759\n",
       "top       14:46:06\n",
       "freq            26\n",
       "Name: 发文时间, dtype: object"
      ]
     },
     "execution_count": 8,
     "metadata": {},
     "output_type": "execute_result"
    }
   ],
   "source": [
    "df['发文时间'].describe()"
   ]
  },
  {
   "cell_type": "code",
   "execution_count": 40,
   "metadata": {},
   "outputs": [],
   "source": [
    "df['标题']=df['标题'].replace(np.nan,'').astype(str)\n",
    "out = df[df['标题'].str.contains('肖战')]"
   ]
  },
  {
   "cell_type": "code",
   "execution_count": 44,
   "metadata": {},
   "outputs": [],
   "source": [
    "out_index = list(out.index.values)"
   ]
  },
  {
   "cell_type": "code",
   "execution_count": 48,
   "metadata": {},
   "outputs": [],
   "source": [
    "df = df.drop(out_index)"
   ]
  },
  {
   "cell_type": "code",
   "execution_count": 50,
   "metadata": {},
   "outputs": [],
   "source": [
    "df = df[df['是否原创']==1]"
   ]
  },
  {
   "cell_type": "code",
   "execution_count": 51,
   "metadata": {},
   "outputs": [
    {
     "data": {
      "text/plain": [
       "(38884, 29)"
      ]
     },
     "execution_count": 51,
     "metadata": {},
     "output_type": "execute_result"
    }
   ],
   "source": [
    "df.shape"
   ]
  },
  {
   "cell_type": "code",
   "execution_count": 52,
   "metadata": {},
   "outputs": [],
   "source": [
    "out = df[df['标题'].str.contains('京城吃货日记')]\n",
    "out_index = list(out.index.values)\n",
    "df = df.drop(out_index)"
   ]
  },
  {
   "cell_type": "code",
   "execution_count": 53,
   "metadata": {},
   "outputs": [
    {
     "data": {
      "text/plain": [
       "(38873, 29)"
      ]
     },
     "execution_count": 53,
     "metadata": {},
     "output_type": "execute_result"
    }
   ],
   "source": [
    "df.shape"
   ]
  },
  {
   "cell_type": "code",
   "execution_count": 54,
   "metadata": {},
   "outputs": [],
   "source": [
    "df.to_csv('weibo.csv',index=False)"
   ]
  },
  {
   "cell_type": "code",
   "execution_count": 210,
   "metadata": {},
   "outputs": [],
   "source": [
    "df= pd.read_excel('weibo_clean.xlsx')"
   ]
  },
  {
   "cell_type": "code",
   "execution_count": 211,
   "metadata": {},
   "outputs": [],
   "source": [
    "out = df[df['标题'].str.contains('麦当娜')]\n",
    "out_index = list(out.index.values)\n",
    "df = df.drop(out_index)"
   ]
  },
  {
   "cell_type": "code",
   "execution_count": 212,
   "metadata": {},
   "outputs": [],
   "source": [
    "df.to_csv('weibo_clean2.csv',index=False)"
   ]
  },
  {
   "cell_type": "code",
   "execution_count": 213,
   "metadata": {},
   "outputs": [],
   "source": [
    "df['space'] = '-'"
   ]
  },
  {
   "cell_type": "code",
   "execution_count": 214,
   "metadata": {},
   "outputs": [],
   "source": [
    "df['时间']=df['发布日期']+df['space']+df['发文时间']"
   ]
  },
  {
   "cell_type": "code",
   "execution_count": 215,
   "metadata": {},
   "outputs": [],
   "source": [
    "df['时间2'] = pd.to_datetime(df['时间'])\n",
    "df['时间2'] = df['时间2'].apply(lambda x : x.strftime('%Y/%m/%d %H:%M:%S'))\n",
    "df['时间'] = pd.to_datetime(df['时间2'])"
   ]
  },
  {
   "cell_type": "code",
   "execution_count": 216,
   "metadata": {},
   "outputs": [],
   "source": [
    "df['小时']=df['时间'].dt.hour"
   ]
  },
  {
   "cell_type": "code",
   "execution_count": 218,
   "metadata": {},
   "outputs": [],
   "source": [
    "df = df.drop(columns=['space','时间2'])"
   ]
  },
  {
   "cell_type": "code",
   "execution_count": 219,
   "metadata": {},
   "outputs": [
    {
     "data": {
      "text/html": [
       "<div>\n",
       "<style scoped>\n",
       "    .dataframe tbody tr th:only-of-type {\n",
       "        vertical-align: middle;\n",
       "    }\n",
       "\n",
       "    .dataframe tbody tr th {\n",
       "        vertical-align: top;\n",
       "    }\n",
       "\n",
       "    .dataframe thead th {\n",
       "        text-align: right;\n",
       "    }\n",
       "</style>\n",
       "<table border=\"1\" class=\"dataframe\">\n",
       "  <thead>\n",
       "    <tr style=\"text-align: right;\">\n",
       "      <th></th>\n",
       "      <th>媒体名称</th>\n",
       "      <th>微博uid</th>\n",
       "      <th>标题</th>\n",
       "      <th>情感属性</th>\n",
       "      <th>发文时间</th>\n",
       "      <th>文章提及城市</th>\n",
       "      <th>文章提及省</th>\n",
       "      <th>是否含有视频</th>\n",
       "      <th>媒体类型</th>\n",
       "      <th>转发数</th>\n",
       "      <th>...</th>\n",
       "      <th>微博认证类型</th>\n",
       "      <th>是否原创</th>\n",
       "      <th>主题词</th>\n",
       "      <th>地域</th>\n",
       "      <th>发布热区</th>\n",
       "      <th>性别</th>\n",
       "      <th>情感分值</th>\n",
       "      <th>发布日期</th>\n",
       "      <th>时间</th>\n",
       "      <th>小时</th>\n",
       "    </tr>\n",
       "  </thead>\n",
       "  <tbody>\n",
       "    <tr>\n",
       "      <th>0</th>\n",
       "      <td>点点豆豆可儿糖糖</td>\n",
       "      <td>2592479103</td>\n",
       "      <td>#棒棒糖成长日记# 4M10D\\n两个手抓着球塞到嘴里玩得很开心\\n今天只醒了三个小时\\n一...</td>\n",
       "      <td>正面</td>\n",
       "      <td>20:20:04</td>\n",
       "      <td>NaN</td>\n",
       "      <td>NaN</td>\n",
       "      <td>0</td>\n",
       "      <td>NaN</td>\n",
       "      <td>0</td>\n",
       "      <td>...</td>\n",
       "      <td>-1</td>\n",
       "      <td>1</td>\n",
       "      <td>[\"小时\",\"棒棒糖\",\"带状疱疹\",\"日记\",\"姥姥\",\"宝宝\",\"最大\",\"零食\",\"办...</td>\n",
       "      <td>山西</td>\n",
       "      <td>太原</td>\n",
       "      <td>女</td>\n",
       "      <td>0.2</td>\n",
       "      <td>2020-01-20</td>\n",
       "      <td>2020-01-20 20:20:04</td>\n",
       "      <td>20</td>\n",
       "    </tr>\n",
       "    <tr>\n",
       "      <th>1</th>\n",
       "      <td>贵阳晚报</td>\n",
       "      <td>1905912064</td>\n",
       "      <td>【2020年“春节”假期贵阳市医院门诊值班安排】 1月16日记者从贵阳市卫生健康局获悉，根据...</td>\n",
       "      <td>负面</td>\n",
       "      <td>17:11:45</td>\n",
       "      <td>[\"贵阳市\"]</td>\n",
       "      <td>[\"贵州省\"]</td>\n",
       "      <td>0</td>\n",
       "      <td>NaN</td>\n",
       "      <td>1</td>\n",
       "      <td>...</td>\n",
       "      <td>3</td>\n",
       "      <td>1</td>\n",
       "      <td>[\"贵阳\",\"贵阳市\",\"医疗\",\"人员\",\"事件\",\"药品\",\"技术\",\"严格执行\",\"方...</td>\n",
       "      <td>未知</td>\n",
       "      <td>未知</td>\n",
       "      <td>男</td>\n",
       "      <td>0.5</td>\n",
       "      <td>2020-01-20</td>\n",
       "      <td>2020-01-20 17:11:45</td>\n",
       "      <td>17</td>\n",
       "    </tr>\n",
       "    <tr>\n",
       "      <th>2</th>\n",
       "      <td>阿皓来电</td>\n",
       "      <td>7374249164</td>\n",
       "      <td>嗨咯  大家好我叫阿皓 第一次分享我的日常化妆 我知道有很多不足的地方 也希望大家给出好的建...</td>\n",
       "      <td>负面</td>\n",
       "      <td>01:46:26</td>\n",
       "      <td>[\"晋城市\"]</td>\n",
       "      <td>[\"山西省\"]</td>\n",
       "      <td>0</td>\n",
       "      <td>NaN</td>\n",
       "      <td>0</td>\n",
       "      <td>...</td>\n",
       "      <td>-1</td>\n",
       "      <td>1</td>\n",
       "      <td>[\"乳液\",\"眉笔\",\"眼影\",\"防晒霜\",\"泰国\",\"大地\",\"苏菲娜\",\"碧柔\",\"地方...</td>\n",
       "      <td>北京</td>\n",
       "      <td>未知</td>\n",
       "      <td>男</td>\n",
       "      <td>0.5</td>\n",
       "      <td>2020-01-20</td>\n",
       "      <td>2020-01-20 01:46:26</td>\n",
       "      <td>1</td>\n",
       "    </tr>\n",
       "    <tr>\n",
       "      <th>3</th>\n",
       "      <td>狗奔那女孩</td>\n",
       "      <td>2901215587</td>\n",
       "      <td>#嗨呀给我你的铜锣烧[超话]#\\n浮生日记2.1\\n\\n想着万总也就离谱，又不是环球时报记者...</td>\n",
       "      <td>中性</td>\n",
       "      <td>21:56:15</td>\n",
       "      <td>[\"北京市\",\"武汉市\"]</td>\n",
       "      <td>[\"北京市\",\"湖北省\"]</td>\n",
       "      <td>0</td>\n",
       "      <td>NaN</td>\n",
       "      <td>0</td>\n",
       "      <td>...</td>\n",
       "      <td>-1</td>\n",
       "      <td>1</td>\n",
       "      <td>[\"万总\",\"地坛医院\",\"鼠疫\",\"铜锣烧\",\"老王\",\"马上又\",\"咳咳\",\"生日记\",...</td>\n",
       "      <td>海外</td>\n",
       "      <td>其他</td>\n",
       "      <td>男</td>\n",
       "      <td>0.8</td>\n",
       "      <td>2020-01-20</td>\n",
       "      <td>2020-01-20 21:56:15</td>\n",
       "      <td>21</td>\n",
       "    </tr>\n",
       "    <tr>\n",
       "      <th>4</th>\n",
       "      <td>屁王花</td>\n",
       "      <td>7001001187</td>\n",
       "      <td>贫民窟屁屁近期购物分享[羞嗒嗒]\\n\\n1⃣️台湾手工睫毛，这个我真的巨爱，便宜又好用！而且...</td>\n",
       "      <td>负面</td>\n",
       "      <td>20:57:00</td>\n",
       "      <td>[\"\"]</td>\n",
       "      <td>[\"台湾省\"]</td>\n",
       "      <td>0</td>\n",
       "      <td>NaN</td>\n",
       "      <td>1</td>\n",
       "      <td>...</td>\n",
       "      <td>-1</td>\n",
       "      <td>1</td>\n",
       "      <td>[\"贫民窟\",\"女孩\",\"卸妆乳\",\"雅韵\",\"功效\",\"台湾\",\"嗒嗒\",\"身体乳\",\"最...</td>\n",
       "      <td>广东</td>\n",
       "      <td>珠海</td>\n",
       "      <td>女</td>\n",
       "      <td>0.5</td>\n",
       "      <td>2020-01-20</td>\n",
       "      <td>2020-01-20 20:57:00</td>\n",
       "      <td>20</td>\n",
       "    </tr>\n",
       "  </tbody>\n",
       "</table>\n",
       "<p>5 rows × 22 columns</p>\n",
       "</div>"
      ],
      "text/plain": [
       "       媒体名称       微博uid                                                 标题  \\\n",
       "0  点点豆豆可儿糖糖  2592479103  #棒棒糖成长日记# 4M10D\\n两个手抓着球塞到嘴里玩得很开心\\n今天只醒了三个小时\\n一...   \n",
       "1      贵阳晚报  1905912064  【2020年“春节”假期贵阳市医院门诊值班安排】 1月16日记者从贵阳市卫生健康局获悉，根据...   \n",
       "2      阿皓来电  7374249164  嗨咯  大家好我叫阿皓 第一次分享我的日常化妆 我知道有很多不足的地方 也希望大家给出好的建...   \n",
       "3     狗奔那女孩  2901215587  #嗨呀给我你的铜锣烧[超话]#\\n浮生日记2.1\\n\\n想着万总也就离谱，又不是环球时报记者...   \n",
       "4       屁王花  7001001187  贫民窟屁屁近期购物分享[羞嗒嗒]\\n\\n1⃣️台湾手工睫毛，这个我真的巨爱，便宜又好用！而且...   \n",
       "\n",
       "  情感属性      发文时间         文章提及城市          文章提及省  是否含有视频 媒体类型  转发数  ...  微博认证类型  \\\n",
       "0   正面  20:20:04            NaN            NaN       0  NaN    0  ...      -1   \n",
       "1   负面  17:11:45        [\"贵阳市\"]        [\"贵州省\"]       0  NaN    1  ...       3   \n",
       "2   负面  01:46:26        [\"晋城市\"]        [\"山西省\"]       0  NaN    0  ...      -1   \n",
       "3   中性  21:56:15  [\"北京市\",\"武汉市\"]  [\"北京市\",\"湖北省\"]       0  NaN    0  ...      -1   \n",
       "4   负面  20:57:00           [\"\"]        [\"台湾省\"]       0  NaN    1  ...      -1   \n",
       "\n",
       "   是否原创                                                主题词  地域 发布热区 性别 情感分值  \\\n",
       "0     1  [\"小时\",\"棒棒糖\",\"带状疱疹\",\"日记\",\"姥姥\",\"宝宝\",\"最大\",\"零食\",\"办...  山西   太原  女  0.2   \n",
       "1     1  [\"贵阳\",\"贵阳市\",\"医疗\",\"人员\",\"事件\",\"药品\",\"技术\",\"严格执行\",\"方...  未知   未知  男  0.5   \n",
       "2     1  [\"乳液\",\"眉笔\",\"眼影\",\"防晒霜\",\"泰国\",\"大地\",\"苏菲娜\",\"碧柔\",\"地方...  北京   未知  男  0.5   \n",
       "3     1  [\"万总\",\"地坛医院\",\"鼠疫\",\"铜锣烧\",\"老王\",\"马上又\",\"咳咳\",\"生日记\",...  海外   其他  男  0.8   \n",
       "4     1  [\"贫民窟\",\"女孩\",\"卸妆乳\",\"雅韵\",\"功效\",\"台湾\",\"嗒嗒\",\"身体乳\",\"最...  广东   珠海  女  0.5   \n",
       "\n",
       "         发布日期                  时间  小时  \n",
       "0  2020-01-20 2020-01-20 20:20:04  20  \n",
       "1  2020-01-20 2020-01-20 17:11:45  17  \n",
       "2  2020-01-20 2020-01-20 01:46:26   1  \n",
       "3  2020-01-20 2020-01-20 21:56:15  21  \n",
       "4  2020-01-20 2020-01-20 20:57:00  20  \n",
       "\n",
       "[5 rows x 22 columns]"
      ]
     },
     "execution_count": 219,
     "metadata": {},
     "output_type": "execute_result"
    }
   ],
   "source": [
    "df.head()"
   ]
  },
  {
   "cell_type": "code",
   "execution_count": 220,
   "metadata": {},
   "outputs": [],
   "source": [
    "def zone(x):\n",
    "    if(x>=0)and(x<7):\n",
    "        return '0-7'\n",
    "    elif(x>=7)and(x<11):\n",
    "        return '7-11'\n",
    "    elif(x>=11)and(x<13):\n",
    "        return '11-13'\n",
    "    elif(x>=13)and(x<18):\n",
    "        return '13-18'\n",
    "    elif(x>=18)and(x<21):\n",
    "        return '18-21'\n",
    "    elif(x>=21)and(x<24):\n",
    "        return '21-24'\n",
    "    else:\n",
    "        return "
   ]
  },
  {
   "cell_type": "code",
   "execution_count": 221,
   "metadata": {},
   "outputs": [],
   "source": [
    "df['timezone']=df['小时'].apply(lambda x: zone(x))"
   ]
  },
  {
   "cell_type": "code",
   "execution_count": 222,
   "metadata": {},
   "outputs": [],
   "source": [
    "df['sentiment']= df['情感属性'].apply(lambda x: 1 if x=='正面' else -1)"
   ]
  },
  {
   "cell_type": "code",
   "execution_count": 223,
   "metadata": {},
   "outputs": [],
   "source": [
    "time_senti = df.groupby('timezone').mean()"
   ]
  },
  {
   "cell_type": "code",
   "execution_count": 224,
   "metadata": {},
   "outputs": [],
   "source": [
    "time_senti=time_senti.reset_index()"
   ]
  },
  {
   "cell_type": "code",
   "execution_count": 232,
   "metadata": {},
   "outputs": [
    {
     "data": {
      "text/html": [
       "<div>\n",
       "<style scoped>\n",
       "    .dataframe tbody tr th:only-of-type {\n",
       "        vertical-align: middle;\n",
       "    }\n",
       "\n",
       "    .dataframe tbody tr th {\n",
       "        vertical-align: top;\n",
       "    }\n",
       "\n",
       "    .dataframe thead th {\n",
       "        text-align: right;\n",
       "    }\n",
       "</style>\n",
       "<table border=\"1\" class=\"dataframe\">\n",
       "  <thead>\n",
       "    <tr style=\"text-align: right;\">\n",
       "      <th></th>\n",
       "      <th>timezone</th>\n",
       "      <th>微博uid</th>\n",
       "      <th>是否含有视频</th>\n",
       "      <th>转发数</th>\n",
       "      <th>评论数</th>\n",
       "      <th>点赞数</th>\n",
       "      <th>是否原创</th>\n",
       "      <th>情感分值</th>\n",
       "      <th>小时</th>\n",
       "      <th>sentiment</th>\n",
       "    </tr>\n",
       "  </thead>\n",
       "  <tbody>\n",
       "    <tr>\n",
       "      <th>0</th>\n",
       "      <td>0-7</td>\n",
       "      <td>3.772222e+09</td>\n",
       "      <td>0.0</td>\n",
       "      <td>2.516248</td>\n",
       "      <td>2.039698</td>\n",
       "      <td>14.966450</td>\n",
       "      <td>1.0</td>\n",
       "      <td>0.436712</td>\n",
       "      <td>2.536975</td>\n",
       "      <td>-0.302301</td>\n",
       "    </tr>\n",
       "    <tr>\n",
       "      <th>1</th>\n",
       "      <td>11-13</td>\n",
       "      <td>3.799989e+09</td>\n",
       "      <td>0.0</td>\n",
       "      <td>7.970961</td>\n",
       "      <td>7.139916</td>\n",
       "      <td>42.696146</td>\n",
       "      <td>1.0</td>\n",
       "      <td>0.402112</td>\n",
       "      <td>11.461457</td>\n",
       "      <td>-0.107709</td>\n",
       "    </tr>\n",
       "    <tr>\n",
       "      <th>2</th>\n",
       "      <td>13-18</td>\n",
       "      <td>3.809226e+09</td>\n",
       "      <td>0.0</td>\n",
       "      <td>61.768453</td>\n",
       "      <td>10.384330</td>\n",
       "      <td>100.579127</td>\n",
       "      <td>1.0</td>\n",
       "      <td>0.394797</td>\n",
       "      <td>14.966347</td>\n",
       "      <td>-0.072984</td>\n",
       "    </tr>\n",
       "    <tr>\n",
       "      <th>3</th>\n",
       "      <td>18-21</td>\n",
       "      <td>3.829492e+09</td>\n",
       "      <td>0.0</td>\n",
       "      <td>21.355329</td>\n",
       "      <td>6.771476</td>\n",
       "      <td>54.653946</td>\n",
       "      <td>1.0</td>\n",
       "      <td>0.407861</td>\n",
       "      <td>19.011860</td>\n",
       "      <td>-0.154022</td>\n",
       "    </tr>\n",
       "    <tr>\n",
       "      <th>4</th>\n",
       "      <td>21-24</td>\n",
       "      <td>3.802125e+09</td>\n",
       "      <td>0.0</td>\n",
       "      <td>6.540317</td>\n",
       "      <td>6.079598</td>\n",
       "      <td>34.734576</td>\n",
       "      <td>1.0</td>\n",
       "      <td>0.421039</td>\n",
       "      <td>21.988016</td>\n",
       "      <td>-0.231543</td>\n",
       "    </tr>\n",
       "    <tr>\n",
       "      <th>5</th>\n",
       "      <td>7-11</td>\n",
       "      <td>3.752551e+09</td>\n",
       "      <td>0.0</td>\n",
       "      <td>13.331604</td>\n",
       "      <td>6.909654</td>\n",
       "      <td>97.395014</td>\n",
       "      <td>1.0</td>\n",
       "      <td>0.407420</td>\n",
       "      <td>8.774301</td>\n",
       "      <td>-0.159779</td>\n",
       "    </tr>\n",
       "  </tbody>\n",
       "</table>\n",
       "</div>"
      ],
      "text/plain": [
       "  timezone         微博uid  是否含有视频        转发数        评论数         点赞数  是否原创  \\\n",
       "0      0-7  3.772222e+09     0.0   2.516248   2.039698   14.966450   1.0   \n",
       "1    11-13  3.799989e+09     0.0   7.970961   7.139916   42.696146   1.0   \n",
       "2    13-18  3.809226e+09     0.0  61.768453  10.384330  100.579127   1.0   \n",
       "3    18-21  3.829492e+09     0.0  21.355329   6.771476   54.653946   1.0   \n",
       "4    21-24  3.802125e+09     0.0   6.540317   6.079598   34.734576   1.0   \n",
       "5     7-11  3.752551e+09     0.0  13.331604   6.909654   97.395014   1.0   \n",
       "\n",
       "       情感分值         小时  sentiment  \n",
       "0  0.436712   2.536975  -0.302301  \n",
       "1  0.402112  11.461457  -0.107709  \n",
       "2  0.394797  14.966347  -0.072984  \n",
       "3  0.407861  19.011860  -0.154022  \n",
       "4  0.421039  21.988016  -0.231543  \n",
       "5  0.407420   8.774301  -0.159779  "
      ]
     },
     "execution_count": 232,
     "metadata": {},
     "output_type": "execute_result"
    }
   ],
   "source": [
    "time_senti"
   ]
  },
  {
   "cell_type": "code",
   "execution_count": 240,
   "metadata": {},
   "outputs": [
    {
     "data": {
      "text/plain": [
       "'心情随时间段的变化情况.html'"
      ]
     },
     "execution_count": 240,
     "metadata": {},
     "output_type": "execute_result"
    }
   ],
   "source": [
    "pyplt=py.offline.plot\n",
    "\n",
    "# Create a trace\n",
    "trace = go.Scatter(\n",
    "    x = time_senti['timezone'],\n",
    "    y= time_senti['sentiment']\n",
    ")\n",
    "\n",
    "layout=go.Layout(\n",
    "    title='心情随时间段的变化情况'\n",
    ")\n",
    "fig=go.Figure(trace,layout=layout)\n",
    "pyplt(fig,filename='心情随时间段的变化情况.html')"
   ]
  },
  {
   "cell_type": "code",
   "execution_count": 235,
   "metadata": {},
   "outputs": [
    {
     "data": {
      "text/plain": [
       "'转评赞随时间段的变化情况.html'"
      ]
     },
     "execution_count": 235,
     "metadata": {},
     "output_type": "execute_result"
    }
   ],
   "source": [
    "pyplt=py.offline.plot\n",
    "\n",
    "# Create a trace\n",
    "trace2 = go.Scatter(\n",
    "    x = time_senti['timezone'],\n",
    "    y= time_senti['转发数']\n",
    ")\n",
    "trace3 = go.Scatter(\n",
    "    x = time_senti['timezone'],\n",
    "    y= time_senti['评论数']\n",
    ")\n",
    "trace4 = go.Scatter(\n",
    "    x = time_senti['timezone'],\n",
    "    y= time_senti['点赞数']\n",
    ")\n",
    "\n",
    "data = [trace2,trace3,trace4]\n",
    "\n",
    "layout=go.Layout(\n",
    "    title='转评赞随时间段的变化情况'\n",
    ")\n",
    "fig=go.Figure(data,layout=layout)\n",
    "pyplt(fig,filename='转评赞随时间段的变化情况.html')"
   ]
  },
  {
   "cell_type": "code",
   "execution_count": 236,
   "metadata": {},
   "outputs": [],
   "source": [
    "df['date']=df['时间'].apply(lambda  x: datetime.date(x))\n",
    "date_senti = df.groupby('date').mean()"
   ]
  },
  {
   "cell_type": "code",
   "execution_count": 237,
   "metadata": {},
   "outputs": [],
   "source": [
    "date_senti  = date_senti.reset_index()"
   ]
  },
  {
   "cell_type": "code",
   "execution_count": 239,
   "metadata": {},
   "outputs": [
    {
     "data": {
      "text/plain": [
       "'心情随日期的变化情况.html'"
      ]
     },
     "execution_count": 239,
     "metadata": {},
     "output_type": "execute_result"
    }
   ],
   "source": [
    "pyplt=py.offline.plot\n",
    "\n",
    "# Create a trace\n",
    "trace = go.Scatter(\n",
    "    x = date_senti['date'],\n",
    "    y= date_senti['sentiment']\n",
    ")\n",
    "\n",
    "layout=go.Layout(\n",
    "    title='心情随日期的变化情况'\n",
    ")\n",
    "fig=go.Figure(trace,layout=layout)\n",
    "pyplt(fig,filename='心情随日期的变化情况.html')"
   ]
  },
  {
   "cell_type": "code",
   "execution_count": 241,
   "metadata": {},
   "outputs": [],
   "source": [
    "region_senti = df.groupby('地域').mean()"
   ]
  },
  {
   "cell_type": "code",
   "execution_count": 242,
   "metadata": {},
   "outputs": [],
   "source": [
    "region_senti = region_senti.reset_index()"
   ]
  },
  {
   "cell_type": "code",
   "execution_count": 243,
   "metadata": {},
   "outputs": [
    {
     "data": {
      "text/plain": [
       "'各地域情绪表现直方图.html'"
      ]
     },
     "execution_count": 243,
     "metadata": {},
     "output_type": "execute_result"
    }
   ],
   "source": [
    "pyplt=py.offline.plot\n",
    "\n",
    "# Create a trace\n",
    "trace = go.Bar(\n",
    "    x = region_senti['地域'],\n",
    "    y= region_senti['sentiment']\n",
    ")\n",
    "\n",
    "layout=go.Layout(\n",
    "    title='各地域情绪表现直方图'\n",
    ")\n",
    "fig=go.Figure(trace,layout=layout)\n",
    "pyplt(fig,filename='各地域情绪表现直方图.html')"
   ]
  },
  {
   "cell_type": "code",
   "execution_count": 244,
   "metadata": {},
   "outputs": [],
   "source": [
    "datelist=list(set(df['date'].values))"
   ]
  },
  {
   "cell_type": "code",
   "execution_count": 245,
   "metadata": {},
   "outputs": [],
   "source": [
    "datelist=sorted(datelist)"
   ]
  },
  {
   "cell_type": "code",
   "execution_count": 246,
   "metadata": {},
   "outputs": [],
   "source": [
    "datelist = [x.strftime('%Y-%m-%d') for x in datelist]"
   ]
  },
  {
   "cell_type": "code",
   "execution_count": 251,
   "metadata": {},
   "outputs": [
    {
     "data": {
      "text/plain": [
       "'各情感类型随时间变化表.html'"
      ]
     },
     "execution_count": 251,
     "metadata": {},
     "output_type": "execute_result"
    }
   ],
   "source": [
    "pyplt = py.offline.plot\n",
    "\n",
    "trace=[]\n",
    "# Stacked Bar Chart\n",
    "slist = ['正面','负面','中性']\n",
    "for sentiment in slist:\n",
    "    df1 = df[df['情感属性']==sentiment]\n",
    "    date_senti = df1.groupby('date').count().reset_index()\n",
    "    count = list(date_senti['标题'])\n",
    "\n",
    "    tmp = go.Bar(x = datelist,y = count ,name = sentiment)\n",
    "    trace.append(tmp)\n",
    "    \n",
    "layout = go.Layout(\n",
    " title = '各情感类型随时间变化表',\n",
    " barmode='stack'\n",
    ")\n",
    "fig = go.Figure(data = trace, layout = layout)\n",
    "pyplt(fig, filename='各情感类型随时间变化表.html')"
   ]
  },
  {
   "cell_type": "code",
   "execution_count": 248,
   "metadata": {},
   "outputs": [],
   "source": [
    "desire_timezone = df.groupby('timezone').count().reset_index()"
   ]
  },
  {
   "cell_type": "code",
   "execution_count": 249,
   "metadata": {},
   "outputs": [],
   "source": [
    "desire_timezone.rename(columns={'sentiment':'发博数'},inplace =True)"
   ]
  },
  {
   "cell_type": "code",
   "execution_count": 254,
   "metadata": {},
   "outputs": [
    {
     "data": {
      "text/plain": [
       "'各时间段表达欲望变化情况.html'"
      ]
     },
     "execution_count": 254,
     "metadata": {},
     "output_type": "execute_result"
    }
   ],
   "source": [
    "pyplt=py.offline.plot\n",
    "\n",
    "# Create a trace\n",
    "trace = go.Scatter(\n",
    "    x = desire_timezone['timezone'],\n",
    "    y= desire_timezone['发博数']\n",
    ")\n",
    "\n",
    "layout=go.Layout(\n",
    "    title='各时间段表达欲望变化情况'\n",
    ")\n",
    "fig=go.Figure(trace,layout=layout)\n",
    "pyplt(fig,filename='各时间段表达欲望变化情况.html')"
   ]
  },
  {
   "cell_type": "code",
   "execution_count": 197,
   "metadata": {},
   "outputs": [],
   "source": [
    "# most productive user\n",
    "user = df.groupby('微博uid')"
   ]
  },
  {
   "cell_type": "code",
   "execution_count": 202,
   "metadata": {},
   "outputs": [],
   "source": [
    "produce = user.size().reset_index()"
   ]
  },
  {
   "cell_type": "code",
   "execution_count": 204,
   "metadata": {},
   "outputs": [
    {
     "data": {
      "text/plain": [
       "(19517, 2)"
      ]
     },
     "execution_count": 204,
     "metadata": {},
     "output_type": "execute_result"
    }
   ],
   "source": [
    "produce.shape"
   ]
  },
  {
   "cell_type": "code",
   "execution_count": 208,
   "metadata": {},
   "outputs": [],
   "source": [
    "produce.sort_values(0,ascending=False,inplace=True) "
   ]
  },
  {
   "cell_type": "code",
   "execution_count": 209,
   "metadata": {},
   "outputs": [],
   "source": [
    "produce.to_excel('weibo_user.xlsx')"
   ]
  },
  {
   "cell_type": "code",
   "execution_count": 261,
   "metadata": {},
   "outputs": [],
   "source": [
    "#2.8发生了什么\n",
    "day = '2020-02-08'\n",
    "febdata = df[df['发布日期']==day]"
   ]
  },
  {
   "cell_type": "code",
   "execution_count": 262,
   "metadata": {},
   "outputs": [],
   "source": [
    "day = '2020-03-05'\n",
    "mardata = df[df['发布日期']==day]"
   ]
  },
  {
   "cell_type": "code",
   "execution_count": 263,
   "metadata": {},
   "outputs": [],
   "source": [
    "mardata.to_csv('Mar05.csv',index = False)"
   ]
  }
 ],
 "metadata": {
  "kernelspec": {
   "display_name": "Python 3",
   "language": "python",
   "name": "python3"
  },
  "language_info": {
   "codemirror_mode": {
    "name": "ipython",
    "version": 3
   },
   "file_extension": ".py",
   "mimetype": "text/x-python",
   "name": "python",
   "nbconvert_exporter": "python",
   "pygments_lexer": "ipython3",
   "version": "3.6.8"
  }
 },
 "nbformat": 4,
 "nbformat_minor": 2
}
